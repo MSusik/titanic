{
 "cells": [
  {
   "cell_type": "markdown",
   "metadata": {
    "collapsed": true
   },
   "source": [
    "# Titanic Survival Prediction\n"
   ]
  },
  {
   "cell_type": "markdown",
   "metadata": {},
   "source": [
    "Dzisiaj przyjrzymy się, jak wygląda proces tworzenia modelu. Nie jest to jedyna właściwa scieżka i ten notatnik jest jedynie wstępem do poważniejszych analiz.\n",
    "Pod lupę weźmiemy wyzwanie [Titanic survival prediction challenge](http://www.kaggle.com/c/titanic-gettingStarted) z portalu [Kaggle](http://www.kaggle.com).\n",
    "Nasza analiza prowadzona będzie z góry na dół, zaczniemy od głębszego zajrzenia do danych, następnie zbudujemy model i zastanowimy się, jak go poprawić.\n",
    "\n",
    "[Źródło, z którego korzystałem](https://github.com/wehrley/wehrley.github.io/blob/master/SOUPTONUTS.md)\n",
    "[Inne źródło](https://www.kaggle.com/c/titanic/details/getting-started-with-python)"
   ]
  },
  {
   "cell_type": "markdown",
   "metadata": {},
   "source": [
    "### Narzędzia potrzebne do uczestniczenia w zajęciach i ich instalacja\n",
    "\n",
    "Polecam działanie w środowisku wirtualnym (virtualenv, conda, itp.). Standardowa instalacja pakietów wygląda tak:\n",
    "\n",
    "```shell\n",
    "Instalujemy condę, odpalamy i gotowe\n",
    "```\n",
    "\n",
    "lub\n",
    "\n",
    "```shell\n",
    "Tworzymy wirtualne środowisko, a potem\n",
    "pip2 install ipython notebook matplotlib pandas statsmodels\n",
    "\n",
    "```\n",
    "\n",
    "### O notebooku\n",
    "\n",
    "Włączamy notebooka i wybieramy dostarczony przeze mnie plik. Pora na małą prezentację możliwości tego oprogramowania.\n",
    "Wiele z nich pochodzi z IPythona. Każdą komórkę możemy odpalić za pomocą kombinacji Shift + Enter"
   ]
  },
  {
   "cell_type": "code",
   "execution_count": null,
   "metadata": {
    "collapsed": false
   },
   "outputs": [],
   "source": [
    "# Wbudowane wsparcie dla popularnych pakietów, m.in. matplotlib, \n",
    "\n",
    "%matplotlib inline\n",
    "import numpy as np\n",
    "from matplotlib.pyplot import *\n",
    "x = np.linspace(0, 3*np.pi, 500)\n",
    "plot(x, np.sin(x**2))\n",
    "_ = title(\"Taki tam wykresik\")"
   ]
  },
  {
   "cell_type": "code",
   "execution_count": null,
   "metadata": {
    "collapsed": true
   },
   "outputs": [],
   "source": [
    "# Wbudowane wsparcie dla dokumentacji\n",
    "np.linspace?"
   ]
  },
  {
   "cell_type": "code",
   "execution_count": null,
   "metadata": {
    "collapsed": false
   },
   "outputs": [],
   "source": [
    " # Wbudowane podstawowe komendy shellowe"
   ]
  },
  {
   "cell_type": "code",
   "execution_count": null,
   "metadata": {
    "collapsed": false
   },
   "outputs": [],
   "source": [
    "ls"
   ]
  },
  {
   "cell_type": "code",
   "execution_count": null,
   "metadata": {
    "collapsed": false
   },
   "outputs": [],
   "source": [
    "# Wbudowany debugger (ipdb).\n",
    "%debug "
   ]
  },
  {
   "cell_type": "code",
   "execution_count": null,
   "metadata": {
    "collapsed": false
   },
   "outputs": [],
   "source": [
    "%pdb 1\n",
    "1/0"
   ]
  },
  {
   "cell_type": "code",
   "execution_count": null,
   "metadata": {
    "collapsed": false
   },
   "outputs": [],
   "source": [
    "# Wbudowany profiler\n",
    "def all_fibbos(n):\n",
    "    return [(fibbo(x),fibbo2(x)) for x in xrange(1,n)]\n",
    "\n",
    "def fibbo2(n):\n",
    "    a,b = 1,1\n",
    "    for i in range(n-1):\n",
    "       a,b = b,a+b\n",
    "    return a\n",
    "\n",
    "def fibbo(n):\n",
    "    if n==1 or n==2:\n",
    "        return 1\n",
    "    return fibbo(n-1)+fibbo(n-2)\n",
    "\n",
    "%prun all_fibbos(25)\n",
    " \n"
   ]
  },
  {
   "cell_type": "markdown",
   "metadata": {},
   "source": [
    "#Wsparcie dla Markdown:\n",
    "\n",
    "| Tables        | Are           | Cool  |\n",
    "| ------------- |:-------------:| -----:|\n",
    "| col 3 is      | right-aligned |  1600 |\n",
    "| col 2 is      | centered      |    12 |"
   ]
  },
  {
   "cell_type": "markdown",
   "metadata": {},
   "source": [
    "# Wprowadzenie\n",
    "\n",
    "W wyzwaniu _Titanic Survival Prediction_ naszym zadaniem jest przewidzenie, którzy z pasażerów Titanica przeżyją, a którzy nie. [Wiki o katastrofie](https://pl.wikipedia.org/wiki/RMS_Titanic#Katastrofa)\n",
    "\n",
    "Na poczatku postarajmy się sami zgadnąć, co wpływało na to, że jedni przeżyli, a drudzy nie. Jak myślicie, jakie były kluczowe czynniki?\n",
    "\n"
   ]
  },
  {
   "cell_type": "code",
   "execution_count": null,
   "metadata": {
    "collapsed": true
   },
   "outputs": [],
   "source": [
    "# Sugestie\n",
    "\n",
    "#\n",
    "#\n",
    "#\n",
    "#"
   ]
  },
  {
   "cell_type": "markdown",
   "metadata": {},
   "source": [
    "# Wczytujemy dane i je wizualizujemy\n",
    "\n",
    "Jedną z kluczowych rzeczy, które wpływają na skuteczność i szybkość wyprodukowania modeli jest porządne przygotowanie zbioru danych do dalszego przetworzenia i ich zrozumienie. Na tym etapie często można zauważyć nieoczywiste zależności, które przydadzą nam się przy budowie modeli. Jeżeli wydaje wam się, że przeznaczyliście wystarczająco czasu na ten etap, to znaczy, że należy przeznaczyć jeszcze drugie tyle."
   ]
  },
  {
   "cell_type": "code",
   "execution_count": null,
   "metadata": {
    "collapsed": false
   },
   "outputs": [],
   "source": [
    "import sys\n",
    "reload(sys)\n",
    "sys.setdefaultencoding(\"utf-8\")\n",
    "\n",
    "import csv\n",
    "import numpy as np\n",
    "import pandas as pd\n",
    "\n",
    "df = pd.read_csv('train.csv')"
   ]
  },
  {
   "cell_type": "code",
   "execution_count": null,
   "metadata": {
    "collapsed": false
   },
   "outputs": [],
   "source": [
    "df"
   ]
  },
  {
   "cell_type": "code",
   "execution_count": null,
   "metadata": {
    "collapsed": false
   },
   "outputs": [],
   "source": [
    "%load missmap.py"
   ]
  },
  {
   "cell_type": "code",
   "execution_count": null,
   "metadata": {
    "collapsed": false
   },
   "outputs": [],
   "source": [
    "_ = missmap(df)"
   ]
  },
  {
   "cell_type": "markdown",
   "metadata": {},
   "source": [
    "Widzimy, że dwie cechy mają braki w danych. Brakami w wartościach dotyczących wieku nie musimy się przejmować - są one dość małe, ale niedostępne dane o numerze kabiny mogą nam przeszkadzać dalej. Nie oznacza to jednak, że nie będziemy mogli używać tej cechy w dalszej analizie!\n",
    "\n",
    "Przeanalizujmy dystrybucję poszczególnych cech:"
   ]
  },
  {
   "cell_type": "code",
   "execution_count": null,
   "metadata": {
    "collapsed": false
   },
   "outputs": [],
   "source": [
    "ax = df['Survived'].plot.hist(bins=2,title='Ocaleni')\n",
    "ax.set_xticks([0.25,0.75])\n",
    "ax.set_xticklabels(['Zgineli', 'Przezyli'])\n",
    "_ = ax.set_ylabel('Licznosc')"
   ]
  },
  {
   "cell_type": "code",
   "execution_count": null,
   "metadata": {
    "collapsed": false
   },
   "outputs": [],
   "source": [
    "ax = df['Pclass'].plot.hist(bins=3,title='Klasa')\n",
    "ax.set_xticks([1.33,2,2.67])\n",
    "ax.set_xticklabels(['Pierwsza', 'Druga', 'Trzecia'])\n",
    "_ = ax.set_ylabel('Licznosc')"
   ]
  },
  {
   "cell_type": "code",
   "execution_count": null,
   "metadata": {
    "collapsed": false
   },
   "outputs": [],
   "source": [
    "df['Sex'].value_counts()\n"
   ]
  },
  {
   "cell_type": "code",
   "execution_count": null,
   "metadata": {
    "collapsed": false
   },
   "outputs": [],
   "source": [
    "from statsmodels.graphics.mosaicplot import mosaic\n",
    "\n",
    "def labelizer(x):\n",
    "    klasa = {'3' : 'trzeciej', '2': 'drugiej', '1': 'pierwszej'}\n",
    "    los = {'0': 'zginęli', '1': 'przeżyli'}\n",
    "    return 'Z klasy ' + klasa[x[0]] + ', ' + los[x[1]]\n",
    "\n",
    "ax = mosaic(df, ['Pclass', 'Survived'], labelizer=labelizer,\n",
    "            title='Zależność pomiędzy wyborem klasy, a szansami przeżycia',\n",
    "            axes_label=False)\n",
    "ax[0].set_size_inches((10,5))"
   ]
  },
  {
   "cell_type": "markdown",
   "metadata": {},
   "source": [
    "Zależność widoczną na powyższym wykresie da się wytłumaczyć. Spójrzmy na rozkład koji:\n",
    "\n",
    "![](cutaway.gif)\n",
    "\n",
    "Oraz na linię wody podczas tonięcia:\n",
    "\n",
    "![](Titanic_side_d_deck.png)\n",
    "\n",
    "Tytanik zaczął tonąć 20 minut przed północą i możemy przyjąć, że większość pasażerów znajdowała się wtedy w swoich kabinach"
   ]
  },
  {
   "cell_type": "code",
   "execution_count": null,
   "metadata": {
    "collapsed": false
   },
   "outputs": [],
   "source": [
    "def labelizer(x):\n",
    "    plec = {'male' : 'Mężczyźni', 'female': 'Kobiety'}\n",
    "    los = {'0': 'zginęli/ły', '1': 'przeżyli/ły'}\n",
    "    return  plec[x[0]] + ', ' + los[x[1]]\n",
    "\n",
    "ax = mosaic(df, ['Sex', 'Survived'], labelizer=labelizer,\n",
    "            title='Zależność pomiędzy wyborem klasy, a szansami przeżycia',\n",
    "            axes_label=False)\n",
    "ax[0].set_size_inches((10,5))"
   ]
  },
  {
   "cell_type": "markdown",
   "metadata": {},
   "source": [
    "Zgodnie z regułami i etykietą pierwszeństwo we wstępie na łodzie ratunkowe miały kobiety i dzieci."
   ]
  },
  {
   "cell_type": "code",
   "execution_count": null,
   "metadata": {
    "collapsed": false
   },
   "outputs": [],
   "source": [
    "ax = df.boxplot(['Age'], by='Survived')\n",
    "ax.set_title('Zależność wieku od szans na przeżycie')\n",
    "ax.set_xlabel('')\n",
    "ax.set_ylabel('')\n",
    "_ = ax.set_xticklabels(['Zginęli', 'Przeżyli'])"
   ]
  },
  {
   "cell_type": "markdown",
   "metadata": {},
   "source": [
    "Tym razem niestety pudło - wiek nie wpływa znacząco na szanse przeżycia. Ale warto tu wspomnieć trochę o boxplotach:\n",
    "    \n",
    "![](box_plot.png)\n",
    "\n",
    "Jest to bardzo wygodna i czytelna prezentacja rozkładów, trzeba się tylko do niej przyzwyczaić."
   ]
  },
  {
   "cell_type": "code",
   "execution_count": null,
   "metadata": {
    "collapsed": false
   },
   "outputs": [],
   "source": [
    "def labelizer(x):\n",
    "    los = {'0': 'zginęli', '1': 'przeżyli'}\n",
    "    return  x[0] + ', ' + los[x[1]]\n",
    "\n",
    "ax = mosaic(df, ['Embarked', 'Survived'], labelizer=labelizer,\n",
    "            title='Zależność pomiędzy miejscem zaokrętowania, a szansami przeżycia',\n",
    "            axes_label=False)\n",
    "ax[0].set_size_inches((17,5))"
   ]
  },
  {
   "cell_type": "markdown",
   "metadata": {
    "collapsed": true
   },
   "source": [
    "Pasażerowie byli okrętowani w trzech różnych miejscowościach: Queenstown, Southampton i Cherbourg.\n",
    "Wydaje się, że nie powinno mieć to wpływu na szanse przeżycia, ale widać, że rozkłady tej zmiennej nie są identyczne\n",
    "dla poszczególnych miast. Oczywiście, mogą istnieć różne korelacje, np. pasażerowie z Cherbourg mogli częściej\n",
    "wybierać pierwszą klasę, mogło być więcej kobiet wśród nich. Nie zmienia to jednak faktu, że zmienna ta będzie\n",
    "przydatna.\n",
    "\n",
    "Istnieje także taka możliwość, że pasażerowie wsiadający w Cherbourg dostali koje w tylnych częściach stref\n",
    "sypialnych.\n",
    "\n",
    "W wielu problemach uczenia maszynowego cechy, które początkowo nie wydają się zbyt ciekawe odgrywają kluczową rolę."
   ]
  },
  {
   "cell_type": "code",
   "execution_count": null,
   "metadata": {
    "collapsed": false
   },
   "outputs": [],
   "source": [
    "ax = df.boxplot(['Age'], by='Pclass')\n",
    "ax.set_title('Zależność wieku od klasy')\n",
    "ax.set_xlabel('')\n",
    "ax.set_ylabel('')\n",
    "_ = ax.set_xticklabels(['Pierwsza', 'Druga', 'Trzecia'])"
   ]
  },
  {
   "cell_type": "markdown",
   "metadata": {},
   "source": [
    "Jak widać, starsi pasażerowie częściej wybierali pierwszą klasę. Podobnie jak dzisiaj, ludzie stają się bogatsi z\n",
    "wiekiem i ta korelacja jest logiczna.\n",
    "\n",
    "Czasami warto także sprawdzać takie powiązania. W przypadku bezsensownych wyników można zaoszczędzić sporo czasu, jeśli wykryje się spore zabrudzenie danych / błędy w danych."
   ]
  },
  {
   "cell_type": "code",
   "execution_count": null,
   "metadata": {
    "collapsed": false
   },
   "outputs": [],
   "source": [
    "df['Name']"
   ]
  },
  {
   "cell_type": "markdown",
   "metadata": {},
   "source": [
    "Po spojrzeniu na imiona i nazwiska (ktoś tu chyba nie słyszał o pierwszej postaci normalnej :P), zauważamy, że każda\n",
    "osoba posiada też tytuł. Cecha ta może nam się przydać."
   ]
  },
  {
   "cell_type": "code",
   "execution_count": null,
   "metadata": {
    "collapsed": false
   },
   "outputs": [],
   "source": [
    "import re\n",
    "\n",
    "df['Title'] = df['Name'].apply(lambda x: re.findall(',.*\\.', x)[0][2:-1])"
   ]
  },
  {
   "cell_type": "markdown",
   "metadata": {},
   "source": [
    "Wyciągamy tytuł z przed nazwiska."
   ]
  },
  {
   "cell_type": "code",
   "execution_count": null,
   "metadata": {
    "collapsed": false
   },
   "outputs": [],
   "source": [
    "df['Title'].unique()"
   ]
  },
  {
   "cell_type": "markdown",
   "metadata": {},
   "source": [
    "Widać, że niektóre wartości są błędne, np. Pani Elizabeth Martin miała inną kolejność tytułu/nazwiska/imienia.\n",
    "Błędów jest jednak niewiele i nie będziemy się nimi przejmować. Odrzucimy każdą wartość pojawiającą się tylko raz:"
   ]
  },
  {
   "cell_type": "code",
   "execution_count": null,
   "metadata": {
    "collapsed": false
   },
   "outputs": [],
   "source": [
    "df2 = df.groupby('Title').filter(lambda x: len(x) > 1)"
   ]
  },
  {
   "cell_type": "code",
   "execution_count": null,
   "metadata": {
    "collapsed": false
   },
   "outputs": [],
   "source": [
    "ax = df2.boxplot(['Age'], by='Title')\n",
    "ax.set_title('Zależność wieku od tytułu')\n",
    "ax.set_xlabel('')\n",
    "ax.set_ylabel('')\n",
    "ax.figure.set_size_inches((20,20))"
   ]
  },
  {
   "cell_type": "markdown",
   "metadata": {},
   "source": [
    "No i trafiliśmy ciekawą zależność. Zobaczymy, czy przyda się przy tworzeniu modelu.\n",
    "\n",
    "To, co przed chwilą zrobiliśmy nazywamy _feature engineering_ (inżyneria cech? Nie znam polskiego odpowiednika).\n",
    "Częściej spotkałem się z podejściem, w którym dokonuje się tego dopiero po stworzeniu pierwszych modeli, ale nic\n",
    "nie szkodzi, aby trochę pobawić się wcześniej.\n",
    "\n",
    "Jakie jeszcze cechy możemy wymyślić?"
   ]
  },
  {
   "cell_type": "code",
   "execution_count": null,
   "metadata": {
    "collapsed": false,
    "scrolled": true
   },
   "outputs": [],
   "source": [
    "def fx(sex, age):\n",
    "    return sex == 'female' or age < 15\n",
    "\n",
    "df['Boat.dibs'] = np.vectorize(fx)(df['Sex'], df['Age'])"
   ]
  },
  {
   "cell_type": "markdown",
   "metadata": {},
   "source": [
    "Pierwszenstwo wstępu na szalupy ratunkowe miały kobiety i dzieci. O ile wiemy dokładnie, którzy z pasażerów to kobiety,\n",
    "to nie mamy pojęcia jak zdefiniować dziecko.\n",
    "\n",
    "Tutaj definiuję dziecko jako osobę młodszą niż 15 lat.\n",
    "\n",
    "Po stworzeniu modeli warto tu wrócić i spróbować innej granicy lub innej metody."
   ]
  },
  {
   "cell_type": "code",
   "execution_count": null,
   "metadata": {
    "collapsed": false
   },
   "outputs": [],
   "source": [
    "def fx(cabin):\n",
    "    if cabin == cabin:\n",
    "        return cabin[0]\n",
    "    else:\n",
    "        return 'NaN'\n",
    "\n",
    "df['Deck'] = np.vectorize(fx)(df['Cabin'])"
   ]
  },
  {
   "cell_type": "markdown",
   "metadata": {},
   "source": [
    "W uczeniu maszynowym warto także korzystać z zewnętrznej wiedzy (czyli zwykle Google'a).\n",
    "\n",
    "Tutaj zaczerpniety z internetów przekrój Tytanika:\n",
    "\n",
    "![](decks.png)\n",
    "\n",
    "Litery występujące na bokach prawdopodobnie występują w nazwie kabiny. Dzięki temu uzyskujemy kolejną cechę\n",
    "- piętro kabiny pasażera"
   ]
  },
  {
   "cell_type": "code",
   "execution_count": null,
   "metadata": {
    "collapsed": false
   },
   "outputs": [],
   "source": [
    "def fx(cabin):\n",
    "    try:     \n",
    "        return int(cabin[-1]) % 2\n",
    "    except:\n",
    "        return 'NaN'\n",
    "\n",
    "df['Side'] = np.vectorize(fx)(df['Cabin'])"
   ]
  },
  {
   "cell_type": "markdown",
   "metadata": {
    "collapsed": true
   },
   "source": [
    "Dodatkowo, parzystość numeru oznaczała jego położenie na sterburcie lub bakburcie!\n",
    "\n",
    "Niestey, jak widzieliśmy wcześniej cecha numeru koi występuje rzadko w naszym zbiorze danych. Co więcej nie wiemy,\n",
    "co ona oznacza. Czy jest to koja, która została wykupiona (czyli ta widniejąca na bilecie), czy koja w której\n",
    "rzeczywiście zostali zaalokowani pasażerowie.\n",
    "\n",
    "Za tydzień zbudujemy modele i zobaczymy jak dobrze jesteśmy w stanie ocenić szanse przeżycia pasażerów.\n",
    "\n",
    "Praca domowa.\n",
    "\n",
    "Co ciekawego jeszce można wyciągnąć z tych danych? Sugestie:\n",
    "    \n",
    "- Sprawdzić jak wpływa podróżowanie z rodziną na szanse przeżycia\n",
    "- Zastanowić się, czy brakujące dane można naprawić. Tu przychodzi nam z pomocą statystyka,\n",
    "  należy dobrać taki rozkład, który pasuje do istniejących danych i zaaplikować go \n",
    "\n",
    "- Sprawdzić jak wpływa rozmiar rodziny z którą się podróżuje na szanse przeżycia\n",
    "\n",
    "lub\n",
    "\n",
    "- Korzystając z wiedzy zdobytej tutaj zbudować model."
   ]
  },
  {
   "cell_type": "code",
   "execution_count": null,
   "metadata": {
    "collapsed": true
   },
   "outputs": [],
   "source": []
  }
 ],
 "metadata": {
  "kernelspec": {
   "display_name": "Python 2",
   "language": "python",
   "name": "python2"
  },
  "language_info": {
   "codemirror_mode": {
    "name": "ipython",
    "version": 2
   },
   "file_extension": ".py",
   "mimetype": "text/x-python",
   "name": "python",
   "nbconvert_exporter": "python",
   "pygments_lexer": "ipython2",
   "version": "2.7.6"
  }
 },
 "nbformat": 4,
 "nbformat_minor": 0
}
